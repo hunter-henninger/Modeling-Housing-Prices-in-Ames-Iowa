{
 "cells": [
  {
   "cell_type": "markdown",
   "metadata": {},
   "source": [
    "# Model Insights"
   ]
  },
  {
   "cell_type": "markdown",
   "metadata": {},
   "source": [
    "---\n",
    "### Objective\n",
    "This notebook seeks to finalize the model process and pull out insights to make conclusive statements. In notebook 04 I decided that the lasso model would give me the most predictive and meaningful model. The coefficients produced by this model provide interpretation into the specific effect of each feature on the sale price of homes in Ames, Iowa. "
   ]
  },
  {
   "cell_type": "markdown",
   "metadata": {},
   "source": [
    "---\n",
    "#### External Libraries Import"
   ]
  },
  {
   "cell_type": "code",
   "execution_count": 1,
   "metadata": {},
   "outputs": [],
   "source": [
    "import pandas as pd\n",
    "import numpy as np\n",
    "from sklearn.preprocessing import StandardScaler , PolynomialFeatures\n",
    "from sklearn.linear_model import LassoCV\n",
    "from sklearn.metrics import r2_score\n",
    "import warnings\n",
    "warnings.filterwarnings('ignore')"
   ]
  },
  {
   "cell_type": "markdown",
   "metadata": {},
   "source": [
    "#### Read Cleaned and Preprocessed Datasets"
   ]
  },
  {
   "cell_type": "code",
   "execution_count": 2,
   "metadata": {},
   "outputs": [],
   "source": [
    "df_train = pd.read_csv('../datasets/preprocessed_train.csv')"
   ]
  },
  {
   "cell_type": "markdown",
   "metadata": {},
   "source": [
    "#### Interesting Features List"
   ]
  },
  {
   "cell_type": "code",
   "execution_count": 3,
   "metadata": {},
   "outputs": [],
   "source": [
    "interesting_features = ['neighborhood','overall_qual', 'year_built', 'year_remod/add', 'exterior_1st',\n",
    "                        'mas_vnr_type', 'exter_qual', 'bsmt_qual', 'total_bsmt_sf', 'gr_liv_area',\n",
    "                        'full_bath', 'kitchen_qual', 'fireplaces', 'garage_area']"
   ]
  },
  {
   "cell_type": "markdown",
   "metadata": {},
   "source": [
    "## Run Final Model"
   ]
  },
  {
   "cell_type": "markdown",
   "metadata": {},
   "source": [
    "#### Transform and Scale Data"
   ]
  },
  {
   "cell_type": "code",
   "execution_count": 4,
   "metadata": {},
   "outputs": [],
   "source": [
    "X = df_train[interesting_features]\n",
    "y = df_train['saleprice']\n",
    "\n",
    "poly = PolynomialFeatures(include_bias = False)\n",
    "X_poly = poly.fit_transform(X)\n",
    "X_poly = pd.DataFrame(X_poly , columns = poly.get_feature_names(interesting_features))\n",
    "interesting_features = X_poly.columns\n",
    "\n",
    "ss = StandardScaler()\n",
    "X_poly_sc = ss.fit_transform(X_poly)"
   ]
  },
  {
   "cell_type": "markdown",
   "metadata": {},
   "source": [
    "#### Fit Model"
   ]
  },
  {
   "cell_type": "code",
   "execution_count": 9,
   "metadata": {},
   "outputs": [
    {
     "name": "stdout",
     "output_type": "stream",
     "text": [
      "Final model produces an R-squared value of 0.9018.\n"
     ]
    }
   ],
   "source": [
    "lasso = LassoCV()\n",
    "lasso.fit(X_poly_sc , y)\n",
    "y_hat = lasso.predict(X_poly_sc)\n",
    "R2 = r2_score(y_hat , y)\n",
    "print('Final model produces an R-squared value of {}.' .format(round((R2),4)))"
   ]
  },
  {
   "cell_type": "markdown",
   "metadata": {},
   "source": [
    "### Produce Dataframe of  Strong Coefficients"
   ]
  },
  {
   "cell_type": "code",
   "execution_count": 11,
   "metadata": {},
   "outputs": [
    {
     "data": {
      "text/html": [
       "<div>\n",
       "<style scoped>\n",
       "    .dataframe tbody tr th:only-of-type {\n",
       "        vertical-align: middle;\n",
       "    }\n",
       "\n",
       "    .dataframe tbody tr th {\n",
       "        vertical-align: top;\n",
       "    }\n",
       "\n",
       "    .dataframe thead th {\n",
       "        text-align: right;\n",
       "    }\n",
       "</style>\n",
       "<table border=\"1\" class=\"dataframe\">\n",
       "  <thead>\n",
       "    <tr style=\"text-align: right;\">\n",
       "      <th></th>\n",
       "      <th>coefs</th>\n",
       "      <th>abs_coefs</th>\n",
       "    </tr>\n",
       "  </thead>\n",
       "  <tbody>\n",
       "    <tr>\n",
       "      <th>gr_liv_area kitchen_qual</th>\n",
       "      <td>17841.609601</td>\n",
       "      <td>17841.609601</td>\n",
       "    </tr>\n",
       "    <tr>\n",
       "      <th>overall_qual gr_liv_area</th>\n",
       "      <td>17392.086548</td>\n",
       "      <td>17392.086548</td>\n",
       "    </tr>\n",
       "    <tr>\n",
       "      <th>year_built exter_qual</th>\n",
       "      <td>-13082.828794</td>\n",
       "      <td>13082.828794</td>\n",
       "    </tr>\n",
       "    <tr>\n",
       "      <th>exter_qual total_bsmt_sf</th>\n",
       "      <td>10534.075301</td>\n",
       "      <td>10534.075301</td>\n",
       "    </tr>\n",
       "    <tr>\n",
       "      <th>bsmt_qual total_bsmt_sf</th>\n",
       "      <td>9781.930129</td>\n",
       "      <td>9781.930129</td>\n",
       "    </tr>\n",
       "    <tr>\n",
       "      <th>exter_qual gr_liv_area</th>\n",
       "      <td>8940.826663</td>\n",
       "      <td>8940.826663</td>\n",
       "    </tr>\n",
       "    <tr>\n",
       "      <th>year_built kitchen_qual</th>\n",
       "      <td>-8208.144170</td>\n",
       "      <td>8208.144170</td>\n",
       "    </tr>\n",
       "    <tr>\n",
       "      <th>full_bath^2</th>\n",
       "      <td>8107.698553</td>\n",
       "      <td>8107.698553</td>\n",
       "    </tr>\n",
       "    <tr>\n",
       "      <th>kitchen_qual garage_area</th>\n",
       "      <td>7860.539926</td>\n",
       "      <td>7860.539926</td>\n",
       "    </tr>\n",
       "    <tr>\n",
       "      <th>overall_qual total_bsmt_sf</th>\n",
       "      <td>7627.711348</td>\n",
       "      <td>7627.711348</td>\n",
       "    </tr>\n",
       "    <tr>\n",
       "      <th>neighborhood gr_liv_area</th>\n",
       "      <td>7422.992531</td>\n",
       "      <td>7422.992531</td>\n",
       "    </tr>\n",
       "    <tr>\n",
       "      <th>exter_qual bsmt_qual</th>\n",
       "      <td>6024.288488</td>\n",
       "      <td>6024.288488</td>\n",
       "    </tr>\n",
       "    <tr>\n",
       "      <th>total_bsmt_sf full_bath</th>\n",
       "      <td>-6020.247132</td>\n",
       "      <td>6020.247132</td>\n",
       "    </tr>\n",
       "    <tr>\n",
       "      <th>year_built full_bath</th>\n",
       "      <td>-5677.577204</td>\n",
       "      <td>5677.577204</td>\n",
       "    </tr>\n",
       "    <tr>\n",
       "      <th>year_built gr_liv_area</th>\n",
       "      <td>-5375.351115</td>\n",
       "      <td>5375.351115</td>\n",
       "    </tr>\n",
       "  </tbody>\n",
       "</table>\n",
       "</div>"
      ],
      "text/plain": [
       "                                   coefs     abs_coefs\n",
       "gr_liv_area kitchen_qual    17841.609601  17841.609601\n",
       "overall_qual gr_liv_area    17392.086548  17392.086548\n",
       "year_built exter_qual      -13082.828794  13082.828794\n",
       "exter_qual total_bsmt_sf    10534.075301  10534.075301\n",
       "bsmt_qual total_bsmt_sf      9781.930129   9781.930129\n",
       "exter_qual gr_liv_area       8940.826663   8940.826663\n",
       "year_built kitchen_qual     -8208.144170   8208.144170\n",
       "full_bath^2                  8107.698553   8107.698553\n",
       "kitchen_qual garage_area     7860.539926   7860.539926\n",
       "overall_qual total_bsmt_sf   7627.711348   7627.711348\n",
       "neighborhood gr_liv_area     7422.992531   7422.992531\n",
       "exter_qual bsmt_qual         6024.288488   6024.288488\n",
       "total_bsmt_sf full_bath     -6020.247132   6020.247132\n",
       "year_built full_bath        -5677.577204   5677.577204\n",
       "year_built gr_liv_area      -5375.351115   5375.351115"
      ]
     },
     "execution_count": 11,
     "metadata": {},
     "output_type": "execute_result"
    }
   ],
   "source": [
    "# create a coefficient dataframe \n",
    "final_model = pd.DataFrame(lasso.coef_, columns=['coefs'])\n",
    "final_model['abs_coefs'] = abs(lasso.coef_)\n",
    "final_model.index = X_poly.columns\n",
    "final_model = final_model.sort_values('abs_coefs', ascending=False)\n",
    "mask = final_model['abs_coefs'] > 0\n",
    "final_model = final_model[mask]\n",
    "final_model.head(15)"
   ]
  },
  {
   "cell_type": "markdown",
   "metadata": {},
   "source": [
    "- The dataframe above displays the sign and magnitude of the top 15 coefficients produced by the model. The features containing two features represent the interaction terms created by sklearn's PolynomialFeatures."
   ]
  },
  {
   "cell_type": "markdown",
   "metadata": {},
   "source": [
    "# Insights"
   ]
  },
  {
   "cell_type": "markdown",
   "metadata": {},
   "source": [
    "Key Metrics:\n",
    "   - R-sqaured\n",
    "       - The final model produces an R-squared value of 90.18%. This means that the predictions calculated by the lasso regression model account for just over 90% of variation in the true sale prices of homes in Ames, Iowa. The score specifically implies that the features included in this model predict the true sale prices 90% better than the mean's ability to predict sale price.\n",
    "<br><br>\n",
    "   - Coefficients \n",
    "       - Each coefficient can be interpreted based on its sign and magnitude. A negative value indicates that the has a negative relationship with the sale price of house. The strongest predictors, based on size of coefficient, turned out to be the second degree features. Because the features are scaled, their specific effect on sale price is based on increases or decreases of standard dev. That is, for example, the strongest predictor (gr_liv_area kitchen_qual) for every 1 standard deviation increase of that feature, the model predicts the price to increase by \\$17,841.61.\n",
    "       <br><br>\n",
    "       - Strongest positive predictors:\n",
    "           - gr_liv_area * kitchen_qual\n",
    "           - overall_qual * gr_liv_area\n",
    "           - exter_qual * total_bsmt_sf\n",
    "           <br><br>\n",
    "       - Strongest negative predictors:\n",
    "           - year_built * exter_qual\n",
    "           - year_built * kitchen_qual\n",
    "           - total_bsmt_sf * full_bath"
   ]
  },
  {
   "cell_type": "markdown",
   "metadata": {},
   "source": [
    "# Conclusion"
   ]
  },
  {
   "cell_type": "markdown",
   "metadata": {},
   "source": [
    "This model is conclusive in that it provides statistically significant evidence of predictive power regarding house prices at sale in Ames, Iowa. Therefore, with new data, this model can predict the price at sale of a house in Ames, Iowa with 90% accuracy. Although this model performs relatively well, the results are restricted by a limited dataset focused on only one city between the years 2006 and 2010. An interesting study to extend this experiment would be to collect data on the exact same list of features for a different city in the United States and apply this model. Comparing the R-squared value and coefficients could lead to profound insight into house prices at sale. Collecting more recent data on homes in Ames would also provide insight into how the effect on sale prices have changed over time.\n",
    "<br><br>\n",
    "The features that appeared most frequently as strong predictors were above ground square feet, the overall quality, the exterior quality, the square footage of the basement, the kitchen quality, the number of full bathrooms, and the year the house was built. \n",
    "<br><br>For homeowners or real estate investors looking to maximize the selling price of a home: \n",
    "- increase the square footage of your home (basement, garage)\n",
    "- improve the quality of the outside of your house\n",
    "- improve the quality of your kitchen\n",
    "- add a full bathroom"
   ]
  }
 ],
 "metadata": {
  "kernelspec": {
   "display_name": "Python [default]",
   "language": "python",
   "name": "python3"
  },
  "language_info": {
   "codemirror_mode": {
    "name": "ipython",
    "version": 3
   },
   "file_extension": ".py",
   "mimetype": "text/x-python",
   "name": "python",
   "nbconvert_exporter": "python",
   "pygments_lexer": "ipython3",
   "version": "3.6.5"
  }
 },
 "nbformat": 4,
 "nbformat_minor": 2
}
