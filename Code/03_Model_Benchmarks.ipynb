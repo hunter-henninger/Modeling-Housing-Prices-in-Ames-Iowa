{
 "cells": [
  {
   "cell_type": "markdown",
   "metadata": {},
   "source": [
    "# Model Benchmarks\n",
    "---"
   ]
  },
  {
   "cell_type": "markdown",
   "metadata": {},
   "source": [
    "### Objective\n",
    "This notebook seeks to evaluate the benchmark multiple linear regression model using the list of interesting features chosen in notebook 02. Using sklearn and statsmodels, cross validation scores are calculated and interpreted. An analysis of p-values and coefficients allows for the removal of highly insignificant features."
   ]
  },
  {
   "cell_type": "markdown",
   "metadata": {},
   "source": [
    "---\n",
    "#### External Libraries Import"
   ]
  },
  {
   "cell_type": "code",
   "execution_count": 1,
   "metadata": {},
   "outputs": [
    {
     "name": "stderr",
     "output_type": "stream",
     "text": [
      "/Applications/anaconda3/envs/dsi/lib/python3.6/site-packages/statsmodels/compat/pandas.py:56: FutureWarning: The pandas.core.datetools module is deprecated and will be removed in a future version. Please use the pandas.tseries module instead.\n",
      "  from pandas.core import datetools\n"
     ]
    }
   ],
   "source": [
    "import pandas as pd\n",
    "import numpy as np\n",
    "from sklearn.linear_model import LinearRegression\n",
    "from sklearn.model_selection import cross_val_score , train_test_split\n",
    "import statsmodels.api as sm\n",
    "import warnings\n",
    "warnings.filterwarnings('ignore')"
   ]
  },
  {
   "cell_type": "markdown",
   "metadata": {},
   "source": [
    "#### Read Cleaned and Preprocessed Datasets"
   ]
  },
  {
   "cell_type": "code",
   "execution_count": 2,
   "metadata": {},
   "outputs": [],
   "source": [
    "df_train = pd.read_csv('../datasets/preprocessed_train.csv')"
   ]
  },
  {
   "cell_type": "markdown",
   "metadata": {},
   "source": [
    "### Fit the Benchmark Multiple Linear Regression Model"
   ]
  },
  {
   "cell_type": "code",
   "execution_count": 3,
   "metadata": {},
   "outputs": [],
   "source": [
    "# get interesting features from 02 notebook\n",
    "\n",
    "interesting_features = ['neighborhood','overall_qual','year_built','year_remod/add','exterior_1st','mas_vnr_type',\n",
    "                        'exter_qual', 'bsmt_qual', 'foundation','total_bsmt_sf','gr_liv_area',\n",
    "                        'full_bath','kitchen_qual','fireplaces','garage_area' , 'heating_qc']"
   ]
  },
  {
   "cell_type": "code",
   "execution_count": 4,
   "metadata": {},
   "outputs": [],
   "source": [
    "# set X and y and train-test split on training data\n",
    "\n",
    "X = df_train[interesting_features]\n",
    "y = df_train['saleprice']\n",
    "\n",
    "X_train, X_test, y_train, y_test = train_test_split(X , y , test_size = 0.3 , random_state = 77)"
   ]
  },
  {
   "cell_type": "code",
   "execution_count": 5,
   "metadata": {},
   "outputs": [
    {
     "name": "stdout",
     "output_type": "stream",
     "text": [
      "Linear regression with the training data produces a mean R-squared score of 0.8602092947450769.\n"
     ]
    }
   ],
   "source": [
    "# fit a linear regression model on training set\n",
    "\n",
    "lr = LinearRegression()\n",
    "lr.fit(X_train , y_train)\n",
    "lr_cv = cross_val_score(lr , X_train , y_train , cv = 5).mean()\n",
    "print('Linear regression with the training data produces a mean R-squared score of {}.' .format(lr_cv))"
   ]
  },
  {
   "cell_type": "markdown",
   "metadata": {},
   "source": [
    "This base model produces a cross-validation R-squared score of 0.86. This implies that, compared the mean of house prices in Ames, Iowa, 86% of sale price variation is explained by the 16 variables I included in this MLR. \n",
    "<br><br>"
   ]
  },
  {
   "cell_type": "code",
   "execution_count": 6,
   "metadata": {},
   "outputs": [
    {
     "name": "stdout",
     "output_type": "stream",
     "text": [
      "Linear regression with the testing data produces a mean R-squared score of 0.8664782641435853.\n"
     ]
    }
   ],
   "source": [
    "# fit a linear regression model on testing set\n",
    "\n",
    "lr.fit(X_test , y_test)\n",
    "lr_cv = cross_val_score(lr , X_test, y_test , cv = 5).mean()\n",
    "print('Linear regression with the testing data produces a mean R-squared score of {}.' .format(lr_cv))"
   ]
  },
  {
   "cell_type": "markdown",
   "metadata": {},
   "source": [
    "By comparing the the two cross-validation scores between the training and testing data, I can identify any bias and/or variance. Because the score produced using the testing data produces a higher score by 0.006, this implies that my model is slightly underfit. \n",
    "<br><br>"
   ]
  },
  {
   "cell_type": "code",
   "execution_count": 7,
   "metadata": {},
   "outputs": [
    {
     "data": {
      "text/html": [
       "<table class=\"simpletable\">\n",
       "<caption>OLS Regression Results</caption>\n",
       "<tr>\n",
       "  <th>Dep. Variable:</th>        <td>saleprice</td>    <th>  R-squared:         </th> <td>   0.863</td> \n",
       "</tr>\n",
       "<tr>\n",
       "  <th>Model:</th>                   <td>OLS</td>       <th>  Adj. R-squared:    </th> <td>   0.862</td> \n",
       "</tr>\n",
       "<tr>\n",
       "  <th>Method:</th>             <td>Least Squares</td>  <th>  F-statistic:       </th> <td>   559.0</td> \n",
       "</tr>\n",
       "<tr>\n",
       "  <th>Date:</th>             <td>Thu, 06 Dec 2018</td> <th>  Prob (F-statistic):</th>  <td>  0.00</td>  \n",
       "</tr>\n",
       "<tr>\n",
       "  <th>Time:</th>                 <td>22:33:08</td>     <th>  Log-Likelihood:    </th> <td> -16812.</td> \n",
       "</tr>\n",
       "<tr>\n",
       "  <th>No. Observations:</th>      <td>  1434</td>      <th>  AIC:               </th> <td>3.366e+04</td>\n",
       "</tr>\n",
       "<tr>\n",
       "  <th>Df Residuals:</th>          <td>  1417</td>      <th>  BIC:               </th> <td>3.375e+04</td>\n",
       "</tr>\n",
       "<tr>\n",
       "  <th>Df Model:</th>              <td>    16</td>      <th>                     </th>     <td> </td>    \n",
       "</tr>\n",
       "<tr>\n",
       "  <th>Covariance Type:</th>      <td>nonrobust</td>    <th>                     </th>     <td> </td>    \n",
       "</tr>\n",
       "</table>\n",
       "<table class=\"simpletable\">\n",
       "<tr>\n",
       "         <td></td>           <th>coef</th>     <th>std err</th>      <th>t</th>      <th>P>|t|</th>  <th>[0.025</th>    <th>0.975]</th>  \n",
       "</tr>\n",
       "<tr>\n",
       "  <th>const</th>          <td>-1.061e+05</td> <td> 2.26e+05</td> <td>   -0.469</td> <td> 0.639</td> <td> -5.5e+05</td> <td> 3.38e+05</td>\n",
       "</tr>\n",
       "<tr>\n",
       "  <th>neighborhood</th>   <td> 1144.7006</td> <td>  185.306</td> <td>    6.177</td> <td> 0.000</td> <td>  781.196</td> <td> 1508.205</td>\n",
       "</tr>\n",
       "<tr>\n",
       "  <th>overall_qual</th>   <td> 1.104e+04</td> <td> 1050.624</td> <td>   10.509</td> <td> 0.000</td> <td> 8980.341</td> <td> 1.31e+04</td>\n",
       "</tr>\n",
       "<tr>\n",
       "  <th>year_built</th>     <td>-6402.4439</td> <td> 4813.236</td> <td>   -1.330</td> <td> 0.184</td> <td>-1.58e+04</td> <td> 3039.391</td>\n",
       "</tr>\n",
       "<tr>\n",
       "  <th>year_remod/add</th> <td>  146.7923</td> <td>   58.085</td> <td>    2.527</td> <td> 0.012</td> <td>   32.851</td> <td>  260.734</td>\n",
       "</tr>\n",
       "<tr>\n",
       "  <th>exterior_1st</th>   <td>  536.0570</td> <td>  403.594</td> <td>    1.328</td> <td> 0.184</td> <td> -255.650</td> <td> 1327.764</td>\n",
       "</tr>\n",
       "<tr>\n",
       "  <th>mas_vnr_type</th>   <td> 3401.8772</td> <td> 1292.784</td> <td>    2.631</td> <td> 0.009</td> <td>  865.901</td> <td> 5937.853</td>\n",
       "</tr>\n",
       "<tr>\n",
       "  <th>exter_qual</th>     <td> 1.227e+04</td> <td> 2372.472</td> <td>    5.170</td> <td> 0.000</td> <td> 7612.785</td> <td> 1.69e+04</td>\n",
       "</tr>\n",
       "<tr>\n",
       "  <th>bsmt_qual</th>      <td> 1.064e+04</td> <td> 1339.245</td> <td>    7.942</td> <td> 0.000</td> <td> 8009.475</td> <td> 1.33e+04</td>\n",
       "</tr>\n",
       "<tr>\n",
       "  <th>foundation</th>     <td> -189.8779</td> <td>  870.104</td> <td>   -0.218</td> <td> 0.827</td> <td>-1896.708</td> <td> 1516.952</td>\n",
       "</tr>\n",
       "<tr>\n",
       "  <th>total_bsmt_sf</th>  <td>   38.9594</td> <td>    2.493</td> <td>   15.628</td> <td> 0.000</td> <td>   34.069</td> <td>   43.850</td>\n",
       "</tr>\n",
       "<tr>\n",
       "  <th>gr_liv_area</th>    <td>   56.5459</td> <td>    2.710</td> <td>   20.863</td> <td> 0.000</td> <td>   51.229</td> <td>   61.863</td>\n",
       "</tr>\n",
       "<tr>\n",
       "  <th>full_bath</th>      <td>-1.356e+04</td> <td> 2130.293</td> <td>   -6.367</td> <td> 0.000</td> <td>-1.77e+04</td> <td>-9384.326</td>\n",
       "</tr>\n",
       "<tr>\n",
       "  <th>kitchen_qual</th>   <td> 9779.3128</td> <td> 1913.937</td> <td>    5.110</td> <td> 0.000</td> <td> 6024.858</td> <td> 1.35e+04</td>\n",
       "</tr>\n",
       "<tr>\n",
       "  <th>fireplaces</th>     <td> 8515.5385</td> <td> 1470.828</td> <td>    5.790</td> <td> 0.000</td> <td> 5630.304</td> <td> 1.14e+04</td>\n",
       "</tr>\n",
       "<tr>\n",
       "  <th>garage_area</th>    <td>   38.8871</td> <td>    4.862</td> <td>    7.998</td> <td> 0.000</td> <td>   29.349</td> <td>   48.425</td>\n",
       "</tr>\n",
       "<tr>\n",
       "  <th>heating_qc</th>     <td>  665.3848</td> <td> 1078.304</td> <td>    0.617</td> <td> 0.537</td> <td>-1449.858</td> <td> 2780.628</td>\n",
       "</tr>\n",
       "</table>\n",
       "<table class=\"simpletable\">\n",
       "<tr>\n",
       "  <th>Omnibus:</th>       <td>387.670</td> <th>  Durbin-Watson:     </th> <td>   1.973</td>\n",
       "</tr>\n",
       "<tr>\n",
       "  <th>Prob(Omnibus):</th> <td> 0.000</td>  <th>  Jarque-Bera (JB):  </th> <td>2662.446</td>\n",
       "</tr>\n",
       "<tr>\n",
       "  <th>Skew:</th>          <td> 1.076</td>  <th>  Prob(JB):          </th> <td>    0.00</td>\n",
       "</tr>\n",
       "<tr>\n",
       "  <th>Kurtosis:</th>      <td> 9.319</td>  <th>  Cond. No.          </th> <td>7.88e+05</td>\n",
       "</tr>\n",
       "</table>"
      ],
      "text/plain": [
       "<class 'statsmodels.iolib.summary.Summary'>\n",
       "\"\"\"\n",
       "                            OLS Regression Results                            \n",
       "==============================================================================\n",
       "Dep. Variable:              saleprice   R-squared:                       0.863\n",
       "Model:                            OLS   Adj. R-squared:                  0.862\n",
       "Method:                 Least Squares   F-statistic:                     559.0\n",
       "Date:                Thu, 06 Dec 2018   Prob (F-statistic):               0.00\n",
       "Time:                        22:33:08   Log-Likelihood:                -16812.\n",
       "No. Observations:                1434   AIC:                         3.366e+04\n",
       "Df Residuals:                    1417   BIC:                         3.375e+04\n",
       "Df Model:                          16                                         \n",
       "Covariance Type:            nonrobust                                         \n",
       "==================================================================================\n",
       "                     coef    std err          t      P>|t|      [0.025      0.975]\n",
       "----------------------------------------------------------------------------------\n",
       "const          -1.061e+05   2.26e+05     -0.469      0.639    -5.5e+05    3.38e+05\n",
       "neighborhood    1144.7006    185.306      6.177      0.000     781.196    1508.205\n",
       "overall_qual    1.104e+04   1050.624     10.509      0.000    8980.341    1.31e+04\n",
       "year_built     -6402.4439   4813.236     -1.330      0.184   -1.58e+04    3039.391\n",
       "year_remod/add   146.7923     58.085      2.527      0.012      32.851     260.734\n",
       "exterior_1st     536.0570    403.594      1.328      0.184    -255.650    1327.764\n",
       "mas_vnr_type    3401.8772   1292.784      2.631      0.009     865.901    5937.853\n",
       "exter_qual      1.227e+04   2372.472      5.170      0.000    7612.785    1.69e+04\n",
       "bsmt_qual       1.064e+04   1339.245      7.942      0.000    8009.475    1.33e+04\n",
       "foundation      -189.8779    870.104     -0.218      0.827   -1896.708    1516.952\n",
       "total_bsmt_sf     38.9594      2.493     15.628      0.000      34.069      43.850\n",
       "gr_liv_area       56.5459      2.710     20.863      0.000      51.229      61.863\n",
       "full_bath      -1.356e+04   2130.293     -6.367      0.000   -1.77e+04   -9384.326\n",
       "kitchen_qual    9779.3128   1913.937      5.110      0.000    6024.858    1.35e+04\n",
       "fireplaces      8515.5385   1470.828      5.790      0.000    5630.304    1.14e+04\n",
       "garage_area       38.8871      4.862      7.998      0.000      29.349      48.425\n",
       "heating_qc       665.3848   1078.304      0.617      0.537   -1449.858    2780.628\n",
       "==============================================================================\n",
       "Omnibus:                      387.670   Durbin-Watson:                   1.973\n",
       "Prob(Omnibus):                  0.000   Jarque-Bera (JB):             2662.446\n",
       "Skew:                           1.076   Prob(JB):                         0.00\n",
       "Kurtosis:                       9.319   Cond. No.                     7.88e+05\n",
       "==============================================================================\n",
       "\n",
       "Warnings:\n",
       "[1] Standard Errors assume that the covariance matrix of the errors is correctly specified.\n",
       "[2] The condition number is large, 7.88e+05. This might indicate that there are\n",
       "strong multicollinearity or other numerical problems.\n",
       "\"\"\""
      ]
     },
     "execution_count": 7,
     "metadata": {},
     "output_type": "execute_result"
    }
   ],
   "source": [
    "X_train = sm.add_constant(X_train)\n",
    "\n",
    "model = sm.OLS(y_train , X_train).fit()\n",
    "model.summary()"
   ]
  },
  {
   "cell_type": "markdown",
   "metadata": {},
   "source": [
    "### Metrics Summary\n",
    "\n",
    "- P-values\n",
    "    - Statistically insignificant P-values attached to: year_built , heating_qc , foundation , 'exterior_1st'.\n",
    "    - There is no evidence to reject the null hypothesis that these three variables have an effect on housing prices.\n",
    "- Coefficients\n",
    "    - Interpret the sign (+/-) in front of each coefficient to determine the directional relationship of each feature. full_bath is the only statistically significant variable that negatively affects price.\n",
    "    - The magnitude of each coefficient indicates the strength of the effect of that variable on sale price. Three strongest are: 'overall_qual' , 'exter_qual' , and 'full_bath'.\n",
    "    \n",
    "<br><br>\n",
    "This model sets the benchmark moving forward for future models to beat."
   ]
  },
  {
   "cell_type": "markdown",
   "metadata": {},
   "source": [
    "#### Create new list of interesting features by removing weak predictors"
   ]
  },
  {
   "cell_type": "code",
   "execution_count": 8,
   "metadata": {},
   "outputs": [],
   "source": [
    "# remove heating_qc and foundation\n",
    "\n",
    "interesting_features.remove('foundation')\n",
    "interesting_features.remove('heating_qc')"
   ]
  },
  {
   "cell_type": "markdown",
   "metadata": {},
   "source": [
    "#### Final Features for Model Tuning"
   ]
  },
  {
   "cell_type": "code",
   "execution_count": 9,
   "metadata": {},
   "outputs": [
    {
     "data": {
      "text/plain": [
       "['neighborhood',\n",
       " 'overall_qual',\n",
       " 'year_built',\n",
       " 'year_remod/add',\n",
       " 'exterior_1st',\n",
       " 'mas_vnr_type',\n",
       " 'exter_qual',\n",
       " 'bsmt_qual',\n",
       " 'total_bsmt_sf',\n",
       " 'gr_liv_area',\n",
       " 'full_bath',\n",
       " 'kitchen_qual',\n",
       " 'fireplaces',\n",
       " 'garage_area']"
      ]
     },
     "execution_count": 9,
     "metadata": {},
     "output_type": "execute_result"
    }
   ],
   "source": [
    "interesting_features"
   ]
  }
 ],
 "metadata": {
  "kernelspec": {
   "display_name": "Python [conda env:dsi]",
   "language": "python",
   "name": "conda-env-dsi-py"
  },
  "language_info": {
   "codemirror_mode": {
    "name": "ipython",
    "version": 3
   },
   "file_extension": ".py",
   "mimetype": "text/x-python",
   "name": "python",
   "nbconvert_exporter": "python",
   "pygments_lexer": "ipython3",
   "version": "3.6.5"
  }
 },
 "nbformat": 4,
 "nbformat_minor": 2
}
